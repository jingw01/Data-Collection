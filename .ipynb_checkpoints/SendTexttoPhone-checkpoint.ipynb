{
 "metadata": {
  "name": "",
  "signature": "sha256:6c0b3fc24e97118732bb6bd633bd8ab7ef984d9896f4a726c88e84e823fd5880"
 },
 "nbformat": 3,
 "nbformat_minor": 0,
 "worksheets": [
  {
   "cells": [
    {
     "cell_type": "code",
     "collapsed": false,
     "input": [
      "import smtplib\n",
      "def send_text(phone_number, msg):\n",
      "    fromaddr = \"amyfr_18@hotmail.com\"\n",
      "    toaddrs = phone_number + \"@tmomail.net\"\n",
      "    msg = (\"From: {0}\\r\\n To: {1}\\r\\n\\r\\n{2}\").format(fromaddr, toaddrs, msg)\n",
      "    server = smtplib.SMTP('smtp.live.com:587')\n",
      "    server.starttls()\n",
      "    server.login(\"emailaddress\", \"password\")\n",
      "    server.sendmail(fromaddr, toaddrs, msg)\n",
      "    server.quit()"
     ],
     "language": "python",
     "metadata": {},
     "outputs": [],
     "prompt_number": 23
    },
    {
     "cell_type": "code",
     "collapsed": false,
     "input": [
      "send_text(\"9095757003\",\"text\")"
     ],
     "language": "python",
     "metadata": {},
     "outputs": [],
     "prompt_number": 24
    },
    {
     "cell_type": "code",
     "collapsed": false,
     "input": [],
     "language": "python",
     "metadata": {},
     "outputs": []
    }
   ],
   "metadata": {}
  }
 ]
}