{
 "metadata": {
  "name": "",
  "signature": "sha256:c1597dbb79f05aab4c40971bc77153d825aa8ab6f6fa827d18480a89f345642e"
 },
 "nbformat": 3,
 "nbformat_minor": 0,
 "worksheets": [
  {
   "cells": [
    {
     "cell_type": "code",
     "collapsed": false,
     "input": [
      "#import libraries\n",
      "\n",
      "import json\n",
      "import requests\n",
      "import csv\n",
      "import pandas"
     ],
     "language": "python",
     "metadata": {},
     "outputs": [],
     "prompt_number": 163
    },
    {
     "cell_type": "code",
     "collapsed": false,
     "input": [
      "'''\n",
      "Function\n",
      "--------\n",
      "geocoderesult(address,benchmark,vintage,layers)\n",
      "\n",
      "Obtain geographic information of an address from \n",
      "geocoding.geo.census.gov\n",
      "\n",
      "Parameters\n",
      "----------\n",
      "address:dictionary with street, city, state infomation,\n",
      "such as {'street':'924 9th St','city':'Santa Monica','state','CA'}\n",
      "\n",
      "benchmark: API parameters \n",
      "\u2013 A numerical ID or name that references\n",
      "what version of the locator should be \n",
      "searched\n",
      "\n",
      "vintage: API parameters\n",
      "-a numerical ID or name that references \n",
      "what vintage of geography is desired for \n",
      "the geoLookup \n",
      "\n",
      "layers: API parameters\n",
      " \u2013 By default, State, County, Tract, and Block layers \n",
      " are displayed when \u201cgeographies\u201d is the chosen returntype.\n",
      " If additional or different layers are desired, they can be \n",
      " specified in a comma delimited list by ID or name as \n",
      " listed in the TigerWeb WMS layer\n",
      "\n",
      "For details, please see \n",
      "http://geocoding.geo.census.gov/geocoder/Geocoding_Services_API.pdf\n",
      "\n",
      "Return\n",
      "------\n",
      "A dictionary that contains latitude, longitude, and geographic info\n",
      "of the address\n",
      "'''\n",
      "\n",
      "\n",
      "def geocoderesult(address,benchmark='Public_AR_Census2010',vintage='Census2010_Census2010',layers='14'):\n",
      "    url1='http://geocoding.geo.census.gov/geocoder/geographies/address'\n",
      "    param1={'street':address['street'],'city':address['city'],\\\n",
      "            'state':address['state'],'benchmark':benchmark,\\\n",
      "            'vintage':vintage,'layers':layers,'format':'json'}\n",
      "                        \n",
      "    data=requests.get(url1,params=param1).text\n",
      "    data=json.loads(data)\n",
      "    try:\n",
      "        geo=dict(data['result']['addressMatches'][0]['geographies']['Census Blocks'][0])\n",
      "        x=data['result']['addressMatches'][0]['coordinates']['x']\n",
      "        y=data['result']['addressMatches'][0]['coordinates']['y']\n",
      "    except:\n",
      "        geo={}\n",
      "        x='nan'\n",
      "        y='nan'\n",
      "    geo['X']=x\n",
      "    geo['Y']=y\n",
      "    geo.update(address)\n",
      "    return geo\n",
      "    \n",
      "    "
     ],
     "language": "python",
     "metadata": {},
     "outputs": [],
     "prompt_number": 147
    },
    {
     "cell_type": "code",
     "collapsed": false,
     "input": [
      "'''\n",
      "Function\n",
      "--------\n",
      "addressbatch(filename)\n",
      "\n",
      "To obtain geographic info of a list of addresses saved in csv form.\n",
      "Note: it needs to contain variables: 'state','city','street'\n",
      "\n",
      "Parameter\n",
      "---------\n",
      "filename: the csv file\n",
      "folderOut: the directory where the output file will be\n",
      "\n",
      "Result\n",
      "---------\n",
      "A csv file will be exported\n",
      "\n",
      "\n",
      "'''\n",
      "def addressbatch(filename,folderOut):\n",
      "    cols=['street','city','state','zip','X','Y','BLKGRP','STATE',\\\n",
      "          'FUNCSTAT','AREAWATER','NAME','SUFFIX','LSADC','CENTLON','HU100',\\\n",
      "          'BLOCK','BASENAME','INTPTLAT','POP100','MTFCC','COUNTY','GEOID',\\\n",
      "          'CENTLAT','INTPTLON','AREALAND','OBJECTID','TRACT']\n",
      "    df=pd.DataFrame(columns=cols)\n",
      "    df=pd.DataFrame()\n",
      "    #with open(filename, 'rb') as csvfile:\n",
      "    with open('address.csv', 'rb') as csvfile:\n",
      "        addresses=csv.reader(csvfile,delimiter=',')\n",
      "        header=addresses.next()\n",
      "        for row in addresses:\n",
      "            address=dict(zip(header,row))\n",
      "            #location data - x y coordinates\n",
      "            result=geocoderesult(address)\n",
      "            tmp=pd.DataFrame(result,index=[0])\n",
      "            df=df.append(tmp,ignore_index=True)\n",
      "\n",
      "    csvfile.close()\n",
      "        #geographies data - e.g. Census Block\n",
      "    df.to_csv('georesult.csv')\n",
      "    #df.to_csv(\"{}/georesult.csv\".format(folderOut))"
     ],
     "language": "python",
     "metadata": {},
     "outputs": [],
     "prompt_number": 120
    },
    {
     "cell_type": "markdown",
     "metadata": {},
     "source": [
      "*Test Code*"
     ]
    },
    {
     "cell_type": "code",
     "collapsed": false,
     "input": [
      "#onelineaddress option\n",
      "\n",
      "url='http://geocoding.geo.census.gov/geocoder/locations/onelineaddress'\n",
      "options={'address':'924 9th St, Santa Monica, CA 90403','benchmark':'9','format':'json'}\n",
      "data=requests.get(url,params=options).text\n",
      "data=json.loads(data)\n",
      "print json.dumps(data['result'])"
     ],
     "language": "python",
     "metadata": {},
     "outputs": [
      {
       "output_type": "stream",
       "stream": "stdout",
       "text": [
        "{\"input\": {\"benchmark\": {\"benchmarkName\": \"Public_AR_Census2010\", \"id\": \"9\", \"isDefault\": false, \"benchmarkDescription\": \"Public Address Ranges - Census 2010 Benchmark\"}, \"address\": {\"address\": \"924 9th St, Santa Monica, CA 90403\"}}, \"addressMatches\": [{\"tigerLine\": {\"tigerLineId\": \"141559073\", \"side\": \"R\"}, \"coordinates\": {\"y\": 34.02664, \"x\": -118.497894}, \"matchedAddress\": \"924 9th St, SANTA MONICA, CA, 90403\", \"addressComponents\": {\"suffixType\": \"St\", \"zip\": \"90403\", \"toAddress\": \"998\", \"preQualifier\": \"\", \"preDirection\": \"\", \"city\": \"SANTA MONICA\", \"preType\": \"\", \"state\": \"CA\", \"suffixQualifier\": \"\", \"fromAddress\": \"900\", \"streetName\": \"9th\", \"suffixDirection\": \"\"}}]}\n"
       ]
      }
     ],
     "prompt_number": 165
    },
    {
     "cell_type": "code",
     "collapsed": false,
     "input": [
      "#address option \n",
      "\n",
      "url='http://geocoding.geo.census.gov/geocoder/locations/address'\n",
      "options={'street':'606 N Figueroa St','city': 'Los Angeles', 'state':'CA',\\\n",
      "         'zip':'90012','benchmark':'Public_AR_Census2010','format':'json'}\n",
      "data=requests.get(url,params=options).text\n",
      "data=json.loads(data)\n",
      "x=data['result']['addressMatches'][0]['coordinates']['x']\n",
      "y=data['result']['addressMatches'][0]['coordinates']['y']\n",
      "print x,y"
     ],
     "language": "python",
     "metadata": {},
     "outputs": [
      {
       "output_type": "stream",
       "stream": "stdout",
       "text": [
        "-118.24623 34.06274\n"
       ]
      }
     ],
     "prompt_number": 166
    },
    {
     "cell_type": "code",
     "collapsed": false,
     "input": [
      "#resultype -- geographies\n",
      "url='http://geocoding.geo.census.gov/geocoder/geographies/address'\n",
      "options={'street':'606 N Figueroa St','city': 'Los Angeles', 'state':'CA',\\\n",
      "         'benchmark':'Public_AR_Census2010','vintage':'Census2010_Census2010',\\\n",
      "         'layers':'14','format':'json'}\n",
      "data=requests.get(url,params=options).text\n",
      "data=json.loads(data)\n",
      "data\n"
     ],
     "language": "python",
     "metadata": {},
     "outputs": [
      {
       "metadata": {},
       "output_type": "pyout",
       "prompt_number": 167,
       "text": [
        "{u'result': {u'addressMatches': [{u'addressComponents': {u'city': u'LOS ANGELES',\n",
        "     u'fromAddress': u'600',\n",
        "     u'preDirection': u'N',\n",
        "     u'preQualifier': u'',\n",
        "     u'preType': u'',\n",
        "     u'state': u'CA',\n",
        "     u'streetName': u'Figueroa',\n",
        "     u'suffixDirection': u'',\n",
        "     u'suffixQualifier': u'',\n",
        "     u'suffixType': u'St',\n",
        "     u'toAddress': u'698',\n",
        "     u'zip': u'90012'},\n",
        "    u'coordinates': {u'x': -118.24623, u'y': 34.06274},\n",
        "    u'geographies': {u'Census Blocks': [{u'AREALAND': 22093,\n",
        "       u'AREAWATER': 0,\n",
        "       u'BASENAME': u'1011',\n",
        "       u'BLKGRP': u'1',\n",
        "       u'BLOCK': u'1011',\n",
        "       u'CENTLAT': u'+34.0623915',\n",
        "       u'CENTLON': u'-118.2452158',\n",
        "       u'COUNTY': u'037',\n",
        "       u'FUNCSTAT': u'S',\n",
        "       u'GEOID': u'060372071011011',\n",
        "       u'HU100': 93,\n",
        "       u'INTPTLAT': u'+34.0623915',\n",
        "       u'INTPTLON': u'-118.2452158',\n",
        "       u'LSADC': u'BK',\n",
        "       u'LWBLKTYP': u'L',\n",
        "       u'MTFCC': u'G5040',\n",
        "       u'NAME': u'Block 1011',\n",
        "       u'OBJECTID': 923435,\n",
        "       u'OID': 210404056288550L,\n",
        "       u'POP100': 261,\n",
        "       u'STATE': u'06',\n",
        "       u'SUFFIX': u'',\n",
        "       u'TRACT': u'207101',\n",
        "       u'UR': u''}]},\n",
        "    u'matchedAddress': u'606 N Figueroa St, LOS ANGELES, CA, 90012',\n",
        "    u'tigerLine': {u'side': u'R', u'tigerLineId': u'141617913'}}],\n",
        "  u'input': {u'address': {u'city': u'Los Angeles',\n",
        "    u'state': u'CA',\n",
        "    u'street': u'606 N Figueroa St'},\n",
        "   u'benchmark': {u'benchmarkDescription': u'Public Address Ranges - Census 2010 Benchmark',\n",
        "    u'benchmarkName': u'Public_AR_Census2010',\n",
        "    u'id': u'9',\n",
        "    u'isDefault': False},\n",
        "   u'vintage': {u'id': u'910',\n",
        "    u'isDefault': True,\n",
        "    u'vintageDescription': u'Census2010 Vintage - Census2010 Benchmark',\n",
        "    u'vintageName': u'Census2010_Census2010'}}}}"
       ]
      }
     ],
     "prompt_number": 167
    },
    {
     "cell_type": "code",
     "collapsed": false,
     "input": [],
     "language": "python",
     "metadata": {},
     "outputs": []
    }
   ],
   "metadata": {}
  }
 ]
}