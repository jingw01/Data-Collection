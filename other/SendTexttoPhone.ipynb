{
 "metadata": {
  "name": "",
  "signature": "sha256:3b8fd8a6a81d9522261d3699516adb149c93330fc8537669b8845d4a10aa7a21"
 },
 "nbformat": 3,
 "nbformat_minor": 0,
 "worksheets": [
  {
   "cells": [
    {
     "cell_type": "markdown",
     "metadata": {},
     "source": [
      "Interesting Post: \n",
      "http://www.gregreda.com/2014/07/27/scraping-craigslist-for-tickets/\n"
     ]
    },
    {
     "cell_type": "code",
     "collapsed": false,
     "input": [
      "\n",
      "import smtplib\n",
      "def send_text(phone_number, msg):\n",
      "    fromaddr = \"emailaddress\"\n",
      "    toaddrs = phone_number + \"@tmomail.net\"\n",
      "    msg = (\"From: {0}\\r\\n To: {1}\\r\\n\\r\\n{2}\").format(fromaddr, toaddrs, msg)\n",
      "    server = smtplib.SMTP('smtp.live.com:587')\n",
      "    server.starttls()\n",
      "    server.login(\"emailaddress\", \"password\")\n",
      "    server.sendmail(fromaddr, toaddrs, msg)\n",
      "    server.quit()"
     ],
     "language": "python",
     "metadata": {},
     "outputs": []
    },
    {
     "cell_type": "code",
     "collapsed": false,
     "input": [],
     "language": "python",
     "metadata": {},
     "outputs": [],
     "prompt_number": 24
    },
    {
     "cell_type": "code",
     "collapsed": false,
     "input": [],
     "language": "python",
     "metadata": {},
     "outputs": []
    }
   ],
   "metadata": {}
  }
 ]
}